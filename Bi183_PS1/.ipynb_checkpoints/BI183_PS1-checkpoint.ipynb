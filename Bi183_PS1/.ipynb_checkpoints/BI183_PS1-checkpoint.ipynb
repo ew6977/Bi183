{
 "cells": [
  {
   "cell_type": "code",
   "execution_count": 2,
   "metadata": {
    "collapsed": false
   },
   "outputs": [],
   "source": [
    "#Imports needed for coding\n",
    "from collections import Counter\n",
    "import pandas as pd\n",
    "import numpy as np\n",
    "import math\n"
   ]
  },
  {
   "cell_type": "markdown",
   "metadata": {
    "collapsed": true
   },
   "source": [
    "# 1. What is the time complexity of the following sorting algorithm? Explain the reasoning behind this time complexity, and then write code (pseudocode is okay) for a sorting algorithm that runs in O(nlogn) time.\n",
    "\n",
    "This sorting algorithm is known as \"insertion sort\" and runs at best O(n), and at worst $O(n^2)$\n",
    "This is because in the best case scenario, everything is already sorted and the algorithm needs to only check each set of numbers once. In the worst case scenario, all of the numbers are in reverse order and you have to iterate through the while loop 1 more time than the previous each time as i increases. For example, if one were to run the code on the array of numbers [4,3,2,1]: This table describes how the algorithm runs through the array each time. \n",
    "\n",
    "| i =  | j =  | array[j-1] | < or > | array[j] | Swap? | 0 | 1 | 2 | 3 |\n",
    "|------|------|------------|--------|----------|-------|---|---|---|---|\n",
    "| 0    | 0    |            |        |          | N/A   | 4 | 3 | 2 | 1 |\n",
    "| 1    | 1    | 4          | >      | 3        | Yes   | 3 | 4 | 2 | 1 |\n",
    "| 1    | 0    | -          | -      | -        | N/A   | - | - | - | - |\n",
    "| 2    | 2    | 4          | >      | 2        | Yes   | 3 | 2 | 4 | 1 |\n",
    "| 2    | 1    | 3          | >      | 1        | Yes   | 2 | 3 | 4 | 1 |\n",
    "| 3    | 3    | 4          | >      | 1        | Yes   | 2 | 3 | 1 | 4 |\n",
    "| 3    | 2    | 3          | >      | 1        | Yes   | 2 | 1 | 3 | 4 |\n",
    "| 3    | 1    | 2          | >      | 1        | Yes   | 1 | 2 | 3 | 4 |\n",
    "\n",
    "In this case, every time i increases by 1, the number of times you must run through the while loop increases by 1. \n",
    "\n"
   ]
  },
  {
   "cell_type": "markdown",
   "metadata": {},
   "source": [
    "\n",
    "## O(nlogn) time pseudocode:\n",
    "\n",
    "For this, I am writing a pseudocode for the Heapsort algorithm, at best and worst case scenario it is O(nlogn)\n",
    "\n",
    "\n",
    "    HeapSort(A)\n",
    "    1. Build-MAX-HEAP(A) (MAX-HEAPIFY)\n",
    "    \n",
    "    #MAX-HEAPIFY is a way of organizing the array such that all \"parent nodes\" are greater than the \"children nodes.\" To execute MAX-HEAPIFY, the parent closest to the bottom of the tree is compared with its children. If the child is greater than the parent, then the parent and child are swapped. This is continued up the tree at each parent node until the apex of tree is reached. Once the apex is reached, you start at bottom parent again and check that all parents are greater than children nodes. When tree is in \"Maxheapify\" format, continue onto next step. \n",
    "    \n",
    "    2. For i <-- length[A] downto 2\n",
    "    3.       do exchange A[1] <-> A[i]\n",
    "    4.              heap-size[A] <-- heapsize[A]-1\n",
    "    \n",
    "    #Steps 2-4: Next, swap the first and last number in array (first number should be the greatest number in the array.) Then, make the heapsize 1 smaller so that the last number of the array is no longer in the heap (It will now remain untouched during the next rounds of re-organizing the array)\n",
    "    \n",
    "    5.              MAX-HEAPIFY(A,1)\n",
    "    \n",
    "    #Now, you repeat the entire process with the new, smaller by 1 heap. It will move the 2nd largest number in array to the 2nd to last position. Process is repeated iteratively until all numbers have been sorted. \n",
    "    \n"
   ]
  },
  {
   "cell_type": "markdown",
   "metadata": {},
   "source": [
    "# 3\n",
    "\n",
    "## 3A Given the sequences below: Calculate the observed and expected frequency of each possible 4-mer assuming each nucleotide appears at a probability of ¼"
   ]
  },
  {
   "cell_type": "code",
   "execution_count": 3,
   "metadata": {
    "collapsed": false
   },
   "outputs": [
    {
     "name": "stdout",
     "output_type": "stream",
     "text": [
      "256\n"
     ]
    }
   ],
   "source": [
    "def allpossiblekmers(length):\n",
    "    \"\"\"This function takes an input length (length of your k-mer) \n",
    "    and tells you how many combinations of nucleotide bases (A,T,G,C) there are\n",
    "    \"\"\"\n",
    "    \n",
    "    allkmers = 4**(length)\n",
    "    return allkmers\n",
    "\n",
    "allpossible4mers = allpossiblekmers(4)\n",
    "print(allpossible4mers)"
   ]
  },
  {
   "cell_type": "markdown",
   "metadata": {},
   "source": [
    "## 3B Compute the frequency of all possible 4-mers in this sequence"
   ]
  },
  {
   "cell_type": "code",
   "execution_count": 4,
   "metadata": {
    "collapsed": true
   },
   "outputs": [],
   "source": [
    "def color_unexpected_red(val):\n",
    "    \"\"\"\n",
    "    Takes a pandas array and colors it red if the observed freq is greater than 0.016129\n",
    "    \"\"\"\n",
    "    if val > 0.0161291 :\n",
    "        color = 'red'\n",
    "    else:\n",
    "        color = 'black'\n",
    "    return 'color: %s' % color\n"
   ]
  },
  {
   "cell_type": "code",
   "execution_count": 5,
   "metadata": {
    "collapsed": false
   },
   "outputs": [],
   "source": [
    "def listofallkmers(len_of_kmer, sequences):\n",
    "    \"\"\"\n",
    "    This fxn takes a sequence and returns a list of all of the k-mers that exist\n",
    "    \"\"\"\n",
    "    kmers = []\n",
    "    for j in range(0, len(sequences)):\n",
    "        seq_len = len(sequences[j])\n",
    "        for i in range (0, seq_len):\n",
    "            kmer = sequences[j][i:i+len_of_kmer]\n",
    "            if len(kmer) == len_of_kmer:\n",
    "                kmers.append(kmer)\n",
    "    return kmers\n",
    "\n",
    "# test = [\"AAAAAT\", 'AAAAG']\n",
    "# print(listofallkmers(4, test))\n",
    "\n",
    "def freq_of_kmers(kmer_list):\n",
    "    \"\"\"\n",
    "    This fxn takes a list of kmers and counts the number of each different kmer, then calculates its frequency \n",
    "    of occurence in the sequence. It then takes that dictionary of frequencies and turns it into a Pandas dataframe. \n",
    "    The Pandas dataframe is sorted for easy viewing. \n",
    "    \"\"\"\n",
    "    \n",
    "    len_kmer_list = len(kmer_list)\n",
    "    kmer_dict = dict(Counter(kmer_list))\n",
    "    \n",
    "    for key, value in kmer_dict.items():\n",
    "        kmer_dict[key] = value / len_kmer_list\n",
    "        \n",
    "    df = pd.DataFrame.from_dict(kmer_dict, orient='index', dtype=None)\n",
    "    df = df.reset_index()\n",
    "    df = df.rename(index=str, columns={ 0:'Observed_Frequency', 'index':'Sequence'})\n",
    "    df = df.sort_values(by = 'Observed_Frequency', ascending = False)\n",
    "    df['Expected_Frequency_at_random'] = 1/62\n",
    "    \n",
    "#     df = df.style.applymap(color_unexpected_red, subset=['Observed_Frequency'])\n",
    "              \n",
    "    return df\n"
   ]
  },
  {
   "cell_type": "code",
   "execution_count": 6,
   "metadata": {
    "collapsed": false
   },
   "outputs": [
    {
     "data": {
      "text/html": [
       "<div>\n",
       "<table border=\"1\" class=\"dataframe\">\n",
       "  <thead>\n",
       "    <tr style=\"text-align: right;\">\n",
       "      <th></th>\n",
       "      <th>Sequence</th>\n",
       "      <th>Observed_Frequency</th>\n",
       "      <th>Expected_Frequency_at_random</th>\n",
       "    </tr>\n",
       "  </thead>\n",
       "  <tbody>\n",
       "    <tr>\n",
       "      <th>1</th>\n",
       "      <td>ACGT</td>\n",
       "      <td>0.10</td>\n",
       "      <td>0.016129</td>\n",
       "    </tr>\n",
       "    <tr>\n",
       "      <th>26</th>\n",
       "      <td>GTGA</td>\n",
       "      <td>0.08</td>\n",
       "      <td>0.016129</td>\n",
       "    </tr>\n",
       "    <tr>\n",
       "      <th>14</th>\n",
       "      <td>CGTG</td>\n",
       "      <td>0.08</td>\n",
       "      <td>0.016129</td>\n",
       "    </tr>\n",
       "    <tr>\n",
       "      <th>17</th>\n",
       "      <td>TACG</td>\n",
       "      <td>0.06</td>\n",
       "      <td>0.016129</td>\n",
       "    </tr>\n",
       "    <tr>\n",
       "      <th>31</th>\n",
       "      <td>ACGG</td>\n",
       "      <td>0.04</td>\n",
       "      <td>0.016129</td>\n",
       "    </tr>\n",
       "    <tr>\n",
       "      <th>20</th>\n",
       "      <td>AGTA</td>\n",
       "      <td>0.04</td>\n",
       "      <td>0.016129</td>\n",
       "    </tr>\n",
       "    <tr>\n",
       "      <th>8</th>\n",
       "      <td>TGAC</td>\n",
       "      <td>0.04</td>\n",
       "      <td>0.016129</td>\n",
       "    </tr>\n",
       "    <tr>\n",
       "      <th>18</th>\n",
       "      <td>TCGT</td>\n",
       "      <td>0.04</td>\n",
       "      <td>0.016129</td>\n",
       "    </tr>\n",
       "    <tr>\n",
       "      <th>3</th>\n",
       "      <td>GTAC</td>\n",
       "      <td>0.04</td>\n",
       "      <td>0.016129</td>\n",
       "    </tr>\n",
       "    <tr>\n",
       "      <th>30</th>\n",
       "      <td>GACG</td>\n",
       "      <td>0.04</td>\n",
       "      <td>0.016129</td>\n",
       "    </tr>\n",
       "    <tr>\n",
       "      <th>27</th>\n",
       "      <td>AGTC</td>\n",
       "      <td>0.02</td>\n",
       "      <td>0.016129</td>\n",
       "    </tr>\n",
       "    <tr>\n",
       "      <th>19</th>\n",
       "      <td>TGAT</td>\n",
       "      <td>0.02</td>\n",
       "      <td>0.016129</td>\n",
       "    </tr>\n",
       "    <tr>\n",
       "      <th>24</th>\n",
       "      <td>AGAT</td>\n",
       "      <td>0.02</td>\n",
       "      <td>0.016129</td>\n",
       "    </tr>\n",
       "    <tr>\n",
       "      <th>23</th>\n",
       "      <td>TGCC</td>\n",
       "      <td>0.02</td>\n",
       "      <td>0.016129</td>\n",
       "    </tr>\n",
       "    <tr>\n",
       "      <th>22</th>\n",
       "      <td>GGAG</td>\n",
       "      <td>0.02</td>\n",
       "      <td>0.016129</td>\n",
       "    </tr>\n",
       "    <tr>\n",
       "      <th>21</th>\n",
       "      <td>CGGA</td>\n",
       "      <td>0.02</td>\n",
       "      <td>0.016129</td>\n",
       "    </tr>\n",
       "    <tr>\n",
       "      <th>28</th>\n",
       "      <td>ATAC</td>\n",
       "      <td>0.02</td>\n",
       "      <td>0.016129</td>\n",
       "    </tr>\n",
       "    <tr>\n",
       "      <th>29</th>\n",
       "      <td>AACG</td>\n",
       "      <td>0.02</td>\n",
       "      <td>0.016129</td>\n",
       "    </tr>\n",
       "    <tr>\n",
       "      <th>25</th>\n",
       "      <td>AGAC</td>\n",
       "      <td>0.02</td>\n",
       "      <td>0.016129</td>\n",
       "    </tr>\n",
       "    <tr>\n",
       "      <th>0</th>\n",
       "      <td>TGAG</td>\n",
       "      <td>0.02</td>\n",
       "      <td>0.016129</td>\n",
       "    </tr>\n",
       "    <tr>\n",
       "      <th>15</th>\n",
       "      <td>GATA</td>\n",
       "      <td>0.02</td>\n",
       "      <td>0.016129</td>\n",
       "    </tr>\n",
       "    <tr>\n",
       "      <th>13</th>\n",
       "      <td>GGTG</td>\n",
       "      <td>0.02</td>\n",
       "      <td>0.016129</td>\n",
       "    </tr>\n",
       "    <tr>\n",
       "      <th>12</th>\n",
       "      <td>GAGA</td>\n",
       "      <td>0.02</td>\n",
       "      <td>0.016129</td>\n",
       "    </tr>\n",
       "    <tr>\n",
       "      <th>11</th>\n",
       "      <td>GTGC</td>\n",
       "      <td>0.02</td>\n",
       "      <td>0.016129</td>\n",
       "    </tr>\n",
       "    <tr>\n",
       "      <th>10</th>\n",
       "      <td>GCCG</td>\n",
       "      <td>0.02</td>\n",
       "      <td>0.016129</td>\n",
       "    </tr>\n",
       "    <tr>\n",
       "      <th>9</th>\n",
       "      <td>GAGT</td>\n",
       "      <td>0.02</td>\n",
       "      <td>0.016129</td>\n",
       "    </tr>\n",
       "    <tr>\n",
       "      <th>7</th>\n",
       "      <td>GAAC</td>\n",
       "      <td>0.02</td>\n",
       "      <td>0.016129</td>\n",
       "    </tr>\n",
       "    <tr>\n",
       "      <th>6</th>\n",
       "      <td>GTAG</td>\n",
       "      <td>0.02</td>\n",
       "      <td>0.016129</td>\n",
       "    </tr>\n",
       "    <tr>\n",
       "      <th>5</th>\n",
       "      <td>CGGT</td>\n",
       "      <td>0.02</td>\n",
       "      <td>0.016129</td>\n",
       "    </tr>\n",
       "    <tr>\n",
       "      <th>4</th>\n",
       "      <td>GTCG</td>\n",
       "      <td>0.02</td>\n",
       "      <td>0.016129</td>\n",
       "    </tr>\n",
       "    <tr>\n",
       "      <th>2</th>\n",
       "      <td>CGTA</td>\n",
       "      <td>0.02</td>\n",
       "      <td>0.016129</td>\n",
       "    </tr>\n",
       "    <tr>\n",
       "      <th>16</th>\n",
       "      <td>TAGA</td>\n",
       "      <td>0.02</td>\n",
       "      <td>0.016129</td>\n",
       "    </tr>\n",
       "  </tbody>\n",
       "</table>\n",
       "</div>"
      ],
      "text/plain": [
       "   Sequence  Observed_Frequency  Expected_Frequency_at_random\n",
       "1      ACGT                0.10                      0.016129\n",
       "26     GTGA                0.08                      0.016129\n",
       "14     CGTG                0.08                      0.016129\n",
       "17     TACG                0.06                      0.016129\n",
       "31     ACGG                0.04                      0.016129\n",
       "20     AGTA                0.04                      0.016129\n",
       "8      TGAC                0.04                      0.016129\n",
       "18     TCGT                0.04                      0.016129\n",
       "3      GTAC                0.04                      0.016129\n",
       "30     GACG                0.04                      0.016129\n",
       "27     AGTC                0.02                      0.016129\n",
       "19     TGAT                0.02                      0.016129\n",
       "24     AGAT                0.02                      0.016129\n",
       "23     TGCC                0.02                      0.016129\n",
       "22     GGAG                0.02                      0.016129\n",
       "21     CGGA                0.02                      0.016129\n",
       "28     ATAC                0.02                      0.016129\n",
       "29     AACG                0.02                      0.016129\n",
       "25     AGAC                0.02                      0.016129\n",
       "0      TGAG                0.02                      0.016129\n",
       "15     GATA                0.02                      0.016129\n",
       "13     GGTG                0.02                      0.016129\n",
       "12     GAGA                0.02                      0.016129\n",
       "11     GTGC                0.02                      0.016129\n",
       "10     GCCG                0.02                      0.016129\n",
       "9      GAGT                0.02                      0.016129\n",
       "7      GAAC                0.02                      0.016129\n",
       "6      GTAG                0.02                      0.016129\n",
       "5      CGGT                0.02                      0.016129\n",
       "4      GTCG                0.02                      0.016129\n",
       "2      CGTA                0.02                      0.016129\n",
       "16     TAGA                0.02                      0.016129"
      ]
     },
     "execution_count": 6,
     "metadata": {},
     "output_type": "execute_result"
    }
   ],
   "source": [
    "seqs= ['AGTCGTACGTGAC', \n",
    "       'AGTAGACGTGCCG',\n",
    "       'ACGTGAGATACGT',\n",
    "       'GAACGGAGTACGT',\n",
    "       'TCGTGACGGTGAT']\n",
    "list_seqquestion3_kmers = listofallkmers(4, seqs)\n",
    "freq_4mers_question3 = freq_of_kmers(list_seqquestion3_kmers)\n",
    "freq_4mers_question3"
   ]
  },
  {
   "cell_type": "markdown",
   "metadata": {},
   "source": [
    "# 4 Given a file of sequences (sequences.txt, on our course website)\n",
    "\n",
    "## 4A Implement a simple method that scores the Hamming distance for a pattern against each subsequence"
   ]
  },
  {
   "cell_type": "code",
   "execution_count": 7,
   "metadata": {
    "collapsed": false
   },
   "outputs": [
    {
     "name": "stdout",
     "output_type": "stream",
     "text": [
      "[1, 1, 1, 1]\n"
     ]
    }
   ],
   "source": [
    "def hamming_distance(Dna_str, pattern):\n",
    "    \"\"\"\n",
    "    This code computes the hamming distance for all kmers of pattern length and determines \n",
    "    the smallest hamming distance of all kmers (could be 0, but could be greater also)\n",
    "    \"\"\"\n",
    "    len_pattern = len(pattern)\n",
    "    seq_len = len(Dna_str)\n",
    "    \n",
    "    hamming_distances = []\n",
    "    \n",
    "    for i in range(0, seq_len-len(pattern)+1):\n",
    "        kmer = Dna_str[i:i+len_pattern]\n",
    "        diffs = 0\n",
    "        for ch1, ch2 in zip(kmer, pattern):\n",
    "            if ch1 != ch2:\n",
    "                diffs += 1\n",
    "        hamming_distances.append(diffs)\n",
    "    \n",
    "    return hamming_distances\n",
    "\n",
    "print(hamming_distance('AAAAT', 'AG'))"
   ]
  },
  {
   "cell_type": "markdown",
   "metadata": {},
   "source": [
    "# 4B Use your methods to score the following patterns using simple Hamming distance."
   ]
  },
  {
   "cell_type": "code",
   "execution_count": 10,
   "metadata": {
    "collapsed": false
   },
   "outputs": [],
   "source": [
    "def min_hamming_distance(Dna_str, pattern):\n",
    "    \"\"\"\n",
    "    This code computes the hamming distance for all kmers of pattern length and determines \n",
    "    the smallest hamming distance of all kmers (could be 0, but could be greater also)\n",
    "    \"\"\"\n",
    "    len_pattern = len(pattern)\n",
    "    seq_len = len(Dna_str)\n",
    "    \n",
    "    hamming_distances = []\n",
    "    \n",
    "    for i in range(0, seq_len-len(pattern)+1):\n",
    "        kmer = Dna_str[i:i+len_pattern]\n",
    "        diffs = 0\n",
    "        for ch1, ch2 in zip(kmer, pattern):\n",
    "            if ch1 != ch2:\n",
    "                diffs += 1\n",
    "        hamming_distances.append(diffs)\n",
    "    lowest_hamming_distance = min(float(s) for s in hamming_distances)\n",
    "    \n",
    "    return lowest_hamming_distance\n",
    "\n",
    "\n",
    "# print(min_hamming_distance(('AAAT'), 'AAAT'))\n",
    "# print(min_hamming_distance(('AAAG'), 'AAAT'))\n",
    "# test_seq = 'ATGCGGCGA'\n",
    "# test_pattern = 'ATCG'\n",
    "# testing = min_hamming_distance(test_seq, test_pattern)\n",
    "# testing"
   ]
  },
  {
   "cell_type": "code",
   "execution_count": 9,
   "metadata": {
    "collapsed": false
   },
   "outputs": [
    {
     "name": "stdout",
     "output_type": "stream",
     "text": [
      "[40.0, 43.0, 44.0, 28.0, 11.0]\n"
     ]
    },
    {
     "data": {
      "text/html": [
       "<div>\n",
       "<table border=\"1\" class=\"dataframe\">\n",
       "  <thead>\n",
       "    <tr style=\"text-align: right;\">\n",
       "      <th></th>\n",
       "      <th>Hamming_distance_sums</th>\n",
       "      <th>pattern</th>\n",
       "    </tr>\n",
       "  </thead>\n",
       "  <tbody>\n",
       "    <tr>\n",
       "      <th>0</th>\n",
       "      <td>40.0</td>\n",
       "      <td>TTGTAGG</td>\n",
       "    </tr>\n",
       "    <tr>\n",
       "      <th>1</th>\n",
       "      <td>43.0</td>\n",
       "      <td>GAGGACC</td>\n",
       "    </tr>\n",
       "    <tr>\n",
       "      <th>2</th>\n",
       "      <td>44.0</td>\n",
       "      <td>TATACGG</td>\n",
       "    </tr>\n",
       "    <tr>\n",
       "      <th>3</th>\n",
       "      <td>28.0</td>\n",
       "      <td>CCGCAGG</td>\n",
       "    </tr>\n",
       "    <tr>\n",
       "      <th>4</th>\n",
       "      <td>11.0</td>\n",
       "      <td>CAGCAGG</td>\n",
       "    </tr>\n",
       "  </tbody>\n",
       "</table>\n",
       "</div>"
      ],
      "text/plain": [
       "   Hamming_distance_sums  pattern\n",
       "0                   40.0  TTGTAGG\n",
       "1                   43.0  GAGGACC\n",
       "2                   44.0  TATACGG\n",
       "3                   28.0  CCGCAGG\n",
       "4                   11.0  CAGCAGG"
      ]
     },
     "execution_count": 9,
     "metadata": {},
     "output_type": "execute_result"
    }
   ],
   "source": [
    "def sum_hamming_distances(all_sequences, pattern):\n",
    "    total_hamming_sum = 0\n",
    "    for seq in all_sequences:\n",
    "        min_hamming = min_hamming_distance(seq, pattern)\n",
    "        total_hamming_sum += min_hamming\n",
    "    return total_hamming_sum\n",
    "\n",
    "#Importing the sequences.txt\n",
    "sequences = (open('atom_sequences', 'r').read().split('\\n'))\n",
    "patterns = ('TTGTAGG', 'GAGGACC', 'TATACGG', 'CCGCAGG', 'CAGCAGG')\n",
    "\n",
    "pattern_hd = []\n",
    "for p in patterns:\n",
    "    pattern_hd.append(sum_hamming_distances(sequences, p))\n",
    "print(pattern_hd)\n",
    "\n",
    "d = { 'Hamming_distance_sums' : pd.Series(pattern_hd),'pattern': pd.Series(patterns)}\n",
    "hd_df = pd.DataFrame(d)\n",
    "hd_df\n",
    "        \n",
    "#implanted motif... sum up the hamming distances\n",
    "#Per long sequence, take the kmer that has the lowest hamming distance\n",
    "#Sum up the t(min_Hamming_distance) for all of the sequences. This is the total score of a \n",
    "#pattern with respect to a set of sequences. \n",
    "#Compare all of the patterns hamming distances scores and the one with the lowest value is\n",
    "#the \"implanted sequence\"\n",
    "        "
   ]
  },
  {
   "cell_type": "markdown",
   "metadata": {},
   "source": []
  },
  {
   "cell_type": "markdown",
   "metadata": {},
   "source": [
    "# 5. What is the probability that you will select the correct motif using a randomized search algorithm? How many permutations would you need on average to be likely to approach a correct solution using a randomized search algorithm?"
   ]
  },
  {
   "cell_type": "markdown",
   "metadata": {},
   "source": [
    "# 6. Now we will ask you to implement a randomized motif search. Using the file sequences.txt given in problem 5, find the motif using a randomized motif search. What profile matrix is obtained by running the algorithm once? 10 times? 1000 times?"
   ]
  },
  {
   "cell_type": "code",
   "execution_count": 34,
   "metadata": {
    "collapsed": false,
    "scrolled": true
   },
   "outputs": [
    {
     "name": "stdout",
     "output_type": "stream",
     "text": [
      "[[ 3.  3.  1.]\n",
      " [ 1.  1.  1.]\n",
      " [ 1.  1.  2.]\n",
      " [ 1.  1.  2.]]\n"
     ]
    }
   ],
   "source": [
    "def profile_matrix(kmers, len_kmer):\n",
    "    '''\n",
    "    Fxn takes a set of kmers and calculates a profile matrix (unweighted.) Pseudocounts have been added. \n",
    "    Structure of matrix count: \n",
    "    [Row 1: A counts\n",
    "     Row 2: C counts\n",
    "     Row 3: G counts\n",
    "     Row 4: T counts]\n",
    "    '''\n",
    "    pm = np.ones((4, len_kmer))\n",
    "    for seq in kmers:\n",
    "        for i in range(len_kmer):\n",
    "            if seq[i] == 'A':\n",
    "                pm[0, i] += 1 \n",
    "            elif seq[i] == 'C':\n",
    "                pm[1, i] += 1\n",
    "            elif seq[i] == 'G':\n",
    "                 pm[2, i] += 1\n",
    "            elif seq[i] == 'T':\n",
    "                 pm[3, i] += 1             \n",
    "    return pm \n",
    "\n",
    "\n",
    "print((profile_matrix(('AAG', 'AAT'), 3)))"
   ]
  },
  {
   "cell_type": "code",
   "execution_count": 50,
   "metadata": {
    "collapsed": false
   },
   "outputs": [
    {
     "name": "stdout",
     "output_type": "stream",
     "text": [
      "[[ 0.5         0.5         0.16666667]\n",
      " [ 0.16666667  0.16666667  0.16666667]\n",
      " [ 0.16666667  0.16666667  0.33333333]\n",
      " [ 0.16666667  0.16666667  0.33333333]]\n"
     ]
    }
   ],
   "source": [
    "def profile_weighted_matrix(kmers, len_kmer):\n",
    "    '''\n",
    "    Fxn takes a set of kmers and calculates a profile weighted matrix (unweighted.) Pseudocounts have been added. \n",
    "    Structure of matrix count: \n",
    "    [Row 1: A counts\n",
    "     Row 2: C counts\n",
    "     Row 3: G counts\n",
    "     Row 4: T counts]\n",
    "    '''\n",
    "    \n",
    "    pm = np.ones((4, len_kmer))\n",
    "    for seq in kmers:\n",
    "        for i in range(len_kmer):\n",
    "            if seq[i] == 'A':\n",
    "                pm[0, i] += 1 \n",
    "            elif seq[i] == 'C':\n",
    "                pm[1, i] += 1\n",
    "            elif seq[i] == 'G':\n",
    "                 pm[2, i] += 1\n",
    "            elif seq[i] == 'T':\n",
    "                 pm[3, i] += 1   \n",
    "                    \n",
    "    len_kmers = len(kmers)\n",
    "    pwm = pm/(len_kmers+4)\n",
    "    return pwm\n",
    "\n",
    "\n",
    "print((profile_weighted_matrix(('AAG', 'AAT'), 3)))"
   ]
  },
  {
   "cell_type": "code",
   "execution_count": null,
   "metadata": {
    "collapsed": true
   },
   "outputs": [],
   "source": [
    "def randomized_motif_search(sequences, km)"
   ]
  },
  {
   "cell_type": "markdown",
   "metadata": {},
   "source": [
    "# 7. Continue using the file sequences.txt given in problem 5, identify the motif in the sequences using the Gibbs Sampling approach. Did you arrive at the same motif as problem 7, why?"
   ]
  },
  {
   "cell_type": "markdown",
   "metadata": {},
   "source": [
    "# 8. In Southern California, Mount San Gorgonio is the highest peak, which doesn’t have a lot of trees on top of it. Build a suffix trie and suffix tree for gorgonio$, by hand."
   ]
  },
  {
   "cell_type": "markdown",
   "metadata": {
    "collapsed": true
   },
   "source": [
    "# 9\n",
    "## 9A In any language of your choice, create a suffix array for Gorgonio and print out the results (index, element) of your array in ascending order."
   ]
  },
  {
   "cell_type": "code",
   "execution_count": null,
   "metadata": {
    "collapsed": false
   },
   "outputs": [],
   "source": [
    "#New idea: Construct a Panda dataframe which each index is connected with a word and as the index increases, \n",
    "#the number of letters is decreased by one. \n",
    "#Note, I am not entirely sure if Pandas is the way to store this data. But it worked to build the array I think\n",
    "\n",
    "#This is too much memory. You need to store the positions of the suffixes and then when you are querying just slice \n",
    "#the actual sequence twice from your stored positions (left and right and center sequences)\n",
    "def build_suffix_array(string):\n",
    "    \"\"\"\n",
    "    This function takes a string and converts it into a sorted pandas dataframe. \n",
    "    \n",
    "    \"\"\"\n",
    "    SA_array = []\n",
    "    for i in range(0, len(string)): \n",
    "        SA_array.append(string[i:])\n",
    "    df_SA = pd.DataFrame(SA_array)\n",
    "    df_SA.index = df_SA.index + 1\n",
    "    df_SA = df_SA.rename(index=str, columns={ 0:'Element'})\n",
    "    df_SA = df_SA.sort_values(by = 'Element', ascending = True)\n",
    "    \n",
    "    return df_SA\n",
    "\n",
    "test = \"Gorgonio$\"\n",
    "testy = build_suffix_array(test)\n",
    "print(testy)\n",
    "\n",
    "#Alternatively to build SA: \n",
    "t ='abaaba$'\n",
    "suffixes = sorted([t[i:] for i in range(len(t))])"
   ]
  },
  {
   "cell_type": "markdown",
   "metadata": {},
   "source": [
    "## 9B Next, implement a “Query” method for your suffix array using the binary search method. Please include your well-documented code in your submission."
   ]
  },
  {
   "cell_type": "code",
   "execution_count": null,
   "metadata": {
    "collapsed": false
   },
   "outputs": [],
   "source": [
    "#This code works. Don't mess with it.  \n",
    "def binarysearchSA(data, query):\n",
    "    #Set left and right boundaries\n",
    "    suffixes = sorted([data[i:] for i in range(len(data))])\n",
    "    print(suffixes)\n",
    "    n = len(query)\n",
    "    left, right = 0, (len(suffixes)-1)\n",
    "    \n",
    "    while left <= right: \n",
    "        middle = math.floor((left+right) / 2)\n",
    "        if suffixes[middle].startswith(query):\n",
    "            return ('We found your query in the sequence!', middle )\n",
    "            break\n",
    "        elif suffixes[middle] > query:\n",
    "            #Change the right boundary\n",
    "            right = middle - 1 \n",
    "        else: \n",
    "            #Change the left boundary\n",
    "            left = middle + 1 \n",
    "    else:\n",
    "        print('The query does not exist in the sequence')\n",
    "    return \n",
    "\n",
    "\n",
    "testing = binarysearchSA('Gorgonio$', 'io')\n",
    "print(testing)\n",
    "        \n",
    "\n",
    "    "
   ]
  },
  {
   "cell_type": "code",
   "execution_count": null,
   "metadata": {
    "collapsed": false
   },
   "outputs": [],
   "source": [
    "#noodling with this code\n",
    "def binarysearchSA(data, query):\n",
    "    #Set left and right boundaries\n",
    "    suffixes = sorted([data[i:] for i in range(len(data))])\n",
    "    print(suffixes)\n",
    "    n = len(query)\n",
    "    left, right = 0, (len(suffixes)-1)\n",
    "    \n",
    "    while left <= right: \n",
    "        middle = math.floor((left+right) / 2)\n",
    "        if suffixes[middle].startswith(query):\n",
    "            return ('We found your query in the sequence!', middle )\n",
    "            break\n",
    "        elif suffixes[middle] > query:\n",
    "            #Change the right boundary\n",
    "            right = middle - 1 \n",
    "        else: \n",
    "            #Change the left boundary\n",
    "            left = middle + 1 \n",
    "    else:\n",
    "        print('The query does not exist in the sequence')\n",
    "    return \n",
    "\n",
    "\n",
    "# testing = binarysearchSA('Gorgonio$', 'io')\n",
    "# print(testing)\n",
    "        \n",
    "chr1 = (open('chr1', 'r').read())\n",
    "chr1_1st_seq = binarysearchSA(chr1, 'atattaacaaagccaaaagtttcaaacttt')\n",
    "    "
   ]
  },
  {
   "cell_type": "markdown",
   "metadata": {},
   "source": [
    "# 9 ----------- Using stored positions\n"
   ]
  },
  {
   "cell_type": "code",
   "execution_count": null,
   "metadata": {
    "collapsed": true
   },
   "outputs": [],
   "source": []
  },
  {
   "cell_type": "markdown",
   "metadata": {},
   "source": [
    "# 10. When searching for a motif using k-mer enumeration, what’s the rationale for using the entropy metric rather than a simple difference score? Provide a simple example that illustrate this.\n",
    "\n",
    "With a consensus sequence, you lose a lot of information about the sequences (is a position really conserved or is there just a nucleotide that barely predominates? Are there more than one base that are roughly the same frequency?)\n",
    "In contrast, the entropy metric gives you the information that the consensus sequence does... and more! \n",
    "Entropy metric allows you to weight postions that have been conserved. "
   ]
  },
  {
   "cell_type": "code",
   "execution_count": null,
   "metadata": {
    "collapsed": true
   },
   "outputs": [],
   "source": []
  }
 ],
 "metadata": {
  "anaconda-cloud": {},
  "kernelspec": {
   "display_name": "Python [default]",
   "language": "python",
   "name": "python3"
  },
  "language_info": {
   "codemirror_mode": {
    "name": "ipython",
    "version": 3
   },
   "file_extension": ".py",
   "mimetype": "text/x-python",
   "name": "python",
   "nbconvert_exporter": "python",
   "pygments_lexer": "ipython3",
   "version": "3.5.2"
  }
 },
 "nbformat": 4,
 "nbformat_minor": 1
}

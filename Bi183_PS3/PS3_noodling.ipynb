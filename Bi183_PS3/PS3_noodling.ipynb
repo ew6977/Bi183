{
 "cells": [
  {
   "cell_type": "code",
   "execution_count": 1,
   "metadata": {
    "collapsed": false
   },
   "outputs": [
    {
     "ename": "SyntaxError",
     "evalue": "invalid syntax (<ipython-input-1-e22f7b8d5963>, line 2)",
     "output_type": "error",
     "traceback": [
      "\u001b[0;36m  File \u001b[0;32m\"<ipython-input-1-e22f7b8d5963>\"\u001b[0;36m, line \u001b[0;32m2\u001b[0m\n\u001b[0;31m    453                                 gap_B_fn, penalize_end_gaps, align_globally,\u001b[0m\n\u001b[0m      ^\u001b[0m\n\u001b[0;31mSyntaxError\u001b[0m\u001b[0;31m:\u001b[0m invalid syntax\n"
     ]
    }
   ],
   "source": [
    "def matrix(sequenceA, sequenceB, match_fn, gap_A_fn, \n",
    "                                gap_B_fn, penalize_end_gaps, align_globally, \n",
    "                                 score_only)\n",
    "\"\"\"Generate a score and traceback matrix according to Needleman-Wunsch \n",
    "   \n",
    "      This implementation allows the usage of general gap functions and is rather \n",
    "      slow. It is automatically called if you define your own gap functions. You \n",
    "      can force the usage of this method with ``force_generic=True``. \n",
    "      \"\"\" \n",
    "      # Create the score and traceback matrices. These should be in the \n",
    "      # shape: \n",
    "      # sequenceA (down) x sequenceB (across) \n",
    "      lenA, lenB = len(sequenceA), len(sequenceB) \n",
    "      score_matrix, trace_matrix = [], [] \n",
    "      for i in range(lenA + 1): \n",
    "          score_matrix.append([None] * (lenB + 1)) \n",
    "          if not score_only: \n",
    "              trace_matrix.append([None] * (lenB + 1)) \n",
    "   \n",
    "      # Initialize first row and column with gap scores. This is like opening up \n",
    "      # i gaps at the beginning of sequence A or B. \n",
    "      for i in range(lenA + 1): \n",
    "          if penalize_end_gaps[1]:  # [1]:gap in sequence B \n",
    "              score = gap_B_fn(0, i) \n",
    "          else: \n",
    "              score = 0 \n",
    "          score_matrix[i][0] = score \n",
    "      for i in range(lenB + 1): \n",
    "          if penalize_end_gaps[0]:  # [0]:gap in sequence A \n",
    "              score = gap_A_fn(0, i) \n",
    "          else: \n",
    "              score = 0 \n",
    "          score_matrix[0][i] = score \n",
    "485   \n",
    "486      # Fill in the score matrix.  Each position in the matrix \n",
    "487      # represents an alignment between a character from sequence A to \n",
    "488      # one in sequence B.  As I iterate through the matrix, find the \n",
    "489      # alignment by choose the best of: \n",
    "490      #    1) extending a previous alignment without gaps \n",
    "491      #    2) adding a gap in sequenceA \n",
    "492      #    3) adding a gap in sequenceB \n",
    "493      for row in range(1, lenA + 1): \n",
    "494          for col in range(1, lenB + 1): \n",
    "495              # First, calculate the score that would occur by extending \n",
    "496              # the alignment without gaps. \n",
    "497              nogap_score = score_matrix[row - 1][col - 1] + \\ \n",
    "498                  match_fn(sequenceA[row - 1], sequenceB[col - 1]) \n",
    "499   \n",
    "500              # Try to find a better score by opening gaps in sequenceA. \n",
    "501              # Do this by checking alignments from each column in the row. \n",
    "502              # Each column represents a different character to align from, \n",
    "503              # and thus a different length gap. \n",
    "504              # Although the gap function does not distinguish between opening \n",
    "505              # and extending a gap, we distinguish them for the backtrace. \n",
    "506              if not penalize_end_gaps[0] and row == lenA: \n",
    "507                  row_open = score_matrix[row][col - 1] \n",
    "508                  row_extend = max([score_matrix[row][x] for x in range(col)]) \n",
    "509              else: \n",
    "510                  row_open = score_matrix[row][col - 1] + gap_A_fn(row, 1) \n",
    "511                  row_extend = max([score_matrix[row][x] + gap_A_fn(row, col - x) \n",
    "512                                    for x in range(col)]) \n",
    "513   \n",
    "514              # Try to find a better score by opening gaps in sequenceB. \n",
    "515              if not penalize_end_gaps[1] and col == lenB: \n",
    "516                  col_open = score_matrix[row - 1][col] \n",
    "517                  col_extend = max([score_matrix[x][col] for x in range(row)]) \n",
    "518              else: \n",
    "519                  col_open = score_matrix[row - 1][col] + gap_B_fn(col, 1) \n",
    "520                  col_extend = max([score_matrix[x][col] + gap_B_fn(col, row - x) \n",
    "521                                    for x in range(row)]) \n",
    "522   \n",
    "523              best_score = max(nogap_score, row_open, row_extend, col_open, \n",
    "524                               col_extend) \n",
    "525              if not align_globally and best_score < 0: \n",
    "526                  score_matrix[row][col] = 0 \n",
    "527              else: \n",
    "528                  score_matrix[row][col] = best_score \n",
    "529   \n",
    "530              # The backtrace is encoded binary. See _make_score_matrix_fast \n",
    "531              # for details. \n",
    "532              if not score_only: \n",
    "533                  trace_score = 0 \n",
    "534                  if rint(nogap_score) == rint(best_score): \n",
    "535                      trace_score += 2 \n",
    "536                  if rint(row_open) == rint(best_score): \n",
    "537                      trace_score += 1 \n",
    "538                  if rint(row_extend) == rint(best_score): \n",
    "539                      trace_score += 8 \n",
    "540                  if rint(col_open) == rint(best_score): \n",
    "541                      trace_score += 4 \n",
    "542                  if rint(col_extend) == rint(best_score): \n",
    "543                      trace_score += 16 \n",
    "544                  trace_matrix[row][col] = trace_score \n",
    "545   \n",
    "546      return score_matrix, trace_matrix "
   ]
  },
  {
   "cell_type": "code",
   "execution_count": null,
   "metadata": {
    "collapsed": true
   },
   "outputs": [],
   "source": []
  }
 ],
 "metadata": {
  "anaconda-cloud": {},
  "kernelspec": {
   "display_name": "Python [conda root]",
   "language": "python",
   "name": "conda-root-py"
  },
  "language_info": {
   "codemirror_mode": {
    "name": "ipython",
    "version": 3
   },
   "file_extension": ".py",
   "mimetype": "text/x-python",
   "name": "python",
   "nbconvert_exporter": "python",
   "pygments_lexer": "ipython3",
   "version": "3.5.2"
  }
 },
 "nbformat": 4,
 "nbformat_minor": 1
}
